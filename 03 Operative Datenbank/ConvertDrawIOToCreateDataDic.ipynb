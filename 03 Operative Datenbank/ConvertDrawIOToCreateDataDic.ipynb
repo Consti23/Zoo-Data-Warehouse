{
 "cells": [
  {
   "cell_type": "code",
   "execution_count": 1,
   "id": "4ab76719-f6ed-4570-b387-f6ca08ef6e31",
   "metadata": {},
   "outputs": [],
   "source": [
    "import xml.etree.ElementTree as ET\n",
    "import io\n",
    "import pandas as pd\n",
    "import re\n",
    "import numpy as np\n",
    "import warnings"
   ]
  },
  {
   "cell_type": "code",
   "execution_count": 2,
   "id": "79d91e3f-9325-48c1-8ab2-e07bdf6b14c3",
   "metadata": {},
   "outputs": [],
   "source": [
    "xml_tree = ET.parse(\"Zoo_ERM.drawio.xml\")\n",
    "# xml_tree = ET.parse(\"ETL.drawio.xml\")\n",
    "# xml_tree = ET.parse(\"Baustoffgroßhandel.drawio.xml\")\n",
    "# xml_tree = ET.parse('Stadtbibliothek.drawio.xml')\n",
    "# xml_tree = ET.parse(\"KFZ_Vermietung.drawio.xml\")\n",
    "# xml_tree = ET.parse('Test.drawio.xml')\n",
    "xml_root = xml_tree.getroot()[0][0][0]"
   ]
  },
  {
   "cell_type": "code",
   "execution_count": 3,
   "id": "73a3d9c2-0ea6-4e4a-82e4-11599b0eb259",
   "metadata": {},
   "outputs": [],
   "source": [
    "class Node:\n",
    "    def __init__(self, nodeId, data, level = None):\n",
    "        self.nodeId = nodeId\n",
    "        self.data = data\n",
    "        self.level = level\n",
    "        self.children = []\n",
    "    def __str__(self):\n",
    "        return str(self.data)\n",
    "\n",
    "class Tree:\n",
    "    def __init__(self):\n",
    "        self.root = None\n",
    "    def addNode(self, parentId, nodeId, data):\n",
    "        if self.root == None:\n",
    "            self.root = Node(nodeId, data, 0)\n",
    "        else:\n",
    "            # breath first search\n",
    "            q = []\n",
    "            q.append(self.root)\n",
    "            while q:\n",
    "                temp = q.pop()\n",
    "                if temp.nodeId == parentId:\n",
    "                    temp.children.append(Node(nodeId, data, temp.level+1))\n",
    "                    break\n",
    "                else:\n",
    "                    q += temp.children\n",
    "\n",
    "                "
   ]
  },
  {
   "cell_type": "code",
   "execution_count": 4,
   "id": "4e4be38d-9b54-4a47-8fbc-cd3e5a6039a5",
   "metadata": {},
   "outputs": [],
   "source": [
    "def printTree(node):\n",
    "    if not node:\n",
    "        return\n",
    "    for i in range(node.level):\n",
    "        print(\"X  \", end = \"\")\n",
    "    print(node.data)\n",
    "    for i in node.children:\n",
    "        printTree(i)\n",
    "\n",
    "# tempTaT: String\n",
    "tempTaT = \"\"\n",
    "\n",
    "def printTreeAsTable(node):\n",
    "    global out\n",
    "    if not node:\n",
    "        return\n",
    "    global tempTaT\n",
    "    if node.level == 2:\n",
    "        tempTaT = node.data\n",
    "    elif node.level == 3:\n",
    "        print(f\"\\n{tempTaT} \", end = \"\")\n",
    "    elif node.level == 4:\n",
    "        print(f\"{node.data} \", end = \"\")\n",
    "        # print(f\"{tempTaT} {node.data}\", end = \"\")\n",
    "    for i in node.children:\n",
    "        printTreeAsTable(i) \n",
    "\n",
    "def writeTreeAsCSV_helper(node):\n",
    "    if not node:\n",
    "        return\n",
    "    global tempTaT\n",
    "    if node.level == 2:\n",
    "        tempTaT = node.data\n",
    "    elif node.level == 3:\n",
    "        out.write(f\"\\n\\\"{tempTaT}\\\";\")\n",
    "    elif node.level == 4:\n",
    "        out.write(f\"\\\"{node.data}\\\";\")\n",
    "    for i in node.children:\n",
    "        writeTreeAsCSV_helper(i)\n",
    "\n",
    "# out: fileIO\n",
    "out = None\n",
    "def writeTreeAsCSV(node):\n",
    "    global out\n",
    "    out = io.open(\"TableOutputFromDrawIO.csv\", \"w\")\n",
    "    writeTreeAsCSV_helper(node)\n",
    "    out.close()"
   ]
  },
  {
   "cell_type": "code",
   "execution_count": 5,
   "id": "0af56bb5-5b8c-4a35-b3d7-3988e1e93b84",
   "metadata": {},
   "outputs": [],
   "source": [
    "tree = Tree()\n",
    "for child in xml_root:\n",
    "    ## get rid of any <...> statements\n",
    "    temp = re.sub(r\"<.*?>\", \"\", (child.attrib).get(\"value\", \"\"))\n",
    "    tree.addNode((child.attrib).get(\"parent\", \"\"), (child.attrib).get(\"id\", \"\"), temp)\n",
    "#    tree.addNode((child.attrib).get(\"parent\", \"\"), (child.attrib).get(\"id\", \"\"), (child.attrib).get(\"value\", \"\"))"
   ]
  },
  {
   "cell_type": "code",
   "execution_count": 6,
   "id": "364ed6f2-94a5-42aa-831f-b3adee826ec2",
   "metadata": {},
   "outputs": [],
   "source": [
    "writeTreeAsCSV(tree.root)"
   ]
  },
  {
   "cell_type": "code",
   "execution_count": 7,
   "id": "78093361-685d-405e-a8b8-94287d80b2c2",
   "metadata": {},
   "outputs": [],
   "source": [
    "table = pd.read_csv(\"TableOutputFromDrawIO.csv\",sep = ';', header = None)\n",
    "table.rename(columns = {0: \"Tabelle\", 1: \"PK\", 2: \"Feldname\", 3: \"Beschreibung\"}, inplace = True)\n",
    "table.insert(2,\"FK\", table.loc[:,\"PK\"])\n",
    "table[\"PK\"] = table[\"PK\"].map(lambda x: False if pd.isnull(x) else bool(re.match(r\".*PK.*\", x)))\n",
    "table[\"FK\"] = table[\"FK\"].map(lambda x: False if pd.isnull(x) else bool(re.match(r\".*FK.*\", x)))"
   ]
  },
  {
   "cell_type": "code",
   "execution_count": 8,
   "id": "b67440e3-1a45-4d69-bea2-8b621ba9fbb9",
   "metadata": {},
   "outputs": [],
   "source": [
    "table.loc[:,\"Felddatentyp\"] = [\"INTEGER\" if x else \"TEXT\" for x in (table[\"PK\"] | table[\"FK\"])]\n",
    "table.loc[:, \"Laenge_Zeichen\"] = [\"\" if x else \"50\" for x in (table[\"PK\"] | table[\"FK\"])]\n",
    "table.loc[:, \"NN\"] = table[\"PK\"] | table[\"FK\"]\n",
    "table.loc[:,\"AI\"] = table[\"PK\"] & ~ table[\"FK\"]\n",
    "table.loc[:,\"Referenz\"] = \"\"\n",
    "\n",
    "table = table.loc[:, [\"Tabelle\", \"Feldname\", \"Felddatentyp\", \"Laenge_Zeichen\", \"PK\", \"FK\", \"Referenz\", \"AI\", \"NN\", \"Beschreibung\"]]"
   ]
  },
  {
   "cell_type": "code",
   "execution_count": 9,
   "id": "0cf9ebc9-7ecc-4e1e-b19f-e8b14d30ebb5",
   "metadata": {},
   "outputs": [],
   "source": [
    "# CAVE!!!\n",
    "# Automatic assignment of the References.\n",
    "# The Foreign Key HAVE to match the Primary Key\n",
    "# The Primary Keys HAVE to be unique\n",
    "\n",
    "## FK with the same name in the entity are coded as PK_(specification)\n",
    "def extractPKfromFK (FK):\n",
    "    if FK is np.nan:\n",
    "        return FK\n",
    "    temp = re.search(r\"^(\\w+)_\\(\", FK)\n",
    "\n",
    "    if temp is not None:\n",
    "        return temp.group(0)[:-2]\n",
    "    else:\n",
    "        return FK\n",
    "\n",
    "## added error handling with try except\n",
    "temp_PK = table.loc[table.loc[:,\"PK\"] & ~ table.loc[:,\"FK\"] , :]\n",
    "temp_ref = []\n",
    "for i in table.loc[table.loc[:,\"FK\"], \"Feldname\"]:\n",
    "    try:\n",
    "        temp_ref.append(temp_PK.loc[temp_PK.loc[:, \"Feldname\"] == extractPKfromFK(i), \"Tabelle\"].array[0])\n",
    "    except IndexError:\n",
    "        warnings.warn(f\"{i} can not be matched to any primary keys\")\n",
    "        temp_ref.append(\"Missing_Ref\")\n",
    "table.loc[table.loc[:,\"FK\"], \"Referenz\"] = temp_ref\n",
    "\n",
    "    \n",
    "\n",
    "## old version without error handling\n",
    "# temp_PK = table.loc[table.loc[:,\"PK\"] & ~ table.loc[:,\"FK\"] , :]\n",
    "# table.loc[table.loc[:,\"FK\"], \"Referenz\"] = [temp_PK.loc[temp_PK.loc[:, \"Feldname\"] == i, \"Tabelle\"].array[0] for i in table.loc[table.loc[:,\"FK\"], \"Feldname\"]]\n"
   ]
  },
  {
   "cell_type": "code",
   "execution_count": 10,
   "id": "ded84100-5f82-466a-8598-792fffbed845",
   "metadata": {},
   "outputs": [],
   "source": [
    "## To debug foreign - primary key missmatches\n",
    "# for i in table.loc[table.loc[:,\"FK\"], \"Feldname\"]:\n",
    "#     print(temp_PK.loc[temp_PK.loc[:, \"Feldname\"] == i, \"Tabelle\"].array[0] )\n",
    "# table.loc[table.loc[:,\"FK\"], \"Feldname\"]\n",
    "# temp_PK"
   ]
  },
  {
   "cell_type": "code",
   "execution_count": 11,
   "id": "7ebb790f-ecc6-43f9-87d9-f29306fd211e",
   "metadata": {},
   "outputs": [],
   "source": [
    "table.to_csv(\"DataDictionaryFromDrawIO.csv\", index = False)"
   ]
  },
  {
   "cell_type": "code",
   "execution_count": 12,
   "id": "f9229546-3e1d-4cd1-a471-a2beeff46d39",
   "metadata": {},
   "outputs": [],
   "source": [
    "## Testing\n",
    "# printTreeAsTable(tree.root)\n",
    "# printTree(tree.root)\n",
    "# for child in root[0:10]:\n",
    "#     print(child.attrib)\n",
    "# for child in root[0:10]:\n",
    "#     print(f\"id: {(child.attrib).get(\"id\", \"\")}; value: {(child.attrib).get(\"value\", \"\")}, parent: {(child.attrib).get(\"parent\", \"\")}\")\n"
   ]
  },
  {
   "cell_type": "code",
   "execution_count": null,
   "id": "a35f4bd7-3856-4298-9fb1-8b151b293bf1",
   "metadata": {},
   "outputs": [],
   "source": []
  }
 ],
 "metadata": {
  "kernelspec": {
   "display_name": "Python 3 (ipykernel)",
   "language": "python",
   "name": "python3"
  },
  "language_info": {
   "codemirror_mode": {
    "name": "ipython",
    "version": 3
   },
   "file_extension": ".py",
   "mimetype": "text/x-python",
   "name": "python",
   "nbconvert_exporter": "python",
   "pygments_lexer": "ipython3",
   "version": "3.12.2"
  }
 },
 "nbformat": 4,
 "nbformat_minor": 5
}
